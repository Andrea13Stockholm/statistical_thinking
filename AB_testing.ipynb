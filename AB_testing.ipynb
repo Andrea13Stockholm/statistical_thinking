{
 "cells": [
  {
   "cell_type": "markdown",
   "metadata": {},
   "source": [
    "### A/B testing"
   ]
  },
  {
   "cell_type": "code",
   "execution_count": 2,
   "metadata": {},
   "outputs": [],
   "source": [
    "##Ideal steps\n",
    "##1. Design the experiment\n",
    "##2. Data preparation\n",
    "##3. Visualizingn the results\n",
    "##4. HP testing & conclusions.\n",
    "\n",
    "##In this example: 2 versions of webpage (old vs new). We want to increase conversion rate.\n",
    "\n",
    "\n",
    "##Ho : p = p_0 versus H1 : p!= p_0. \n",
    "## p_value < alpha, reject Ho. Alpha = 0.05. Confidence 1-alpha\n",
    "## Power = 1-beta = probability of detecting a differential effects in the two groups when\n",
    "## there is\n",
    "## Effect size = the minimum differential effects that we do expect to see in the two groups.\n",
    "\n",
    "##Control (C): we have shown them the old version; Treatment (T): we have shown them the new \n",
    "##version. 0 if they did not convert; 1 if they converted."
   ]
  },
  {
   "cell_type": "code",
   "execution_count": 31,
   "metadata": {},
   "outputs": [],
   "source": [
    "import numpy as np\n",
    "import pandas as pd\n",
    "import scipy.stats as stats\n",
    "import statsmodels.stats.api as sms\n",
    "import matplotlib as mpl\n",
    "import matplotlib.pyplot as plt\n",
    "import seaborn as sns\n",
    "from math import ceil"
   ]
  },
  {
   "cell_type": "code",
   "execution_count": null,
   "metadata": {},
   "outputs": [],
   "source": [
    "#Link to Python documentation for statistical modelling.\n",
    "https://www.statsmodels.org/stable/user-guide.html#statistics-and-tools"
   ]
  },
  {
   "cell_type": "code",
   "execution_count": 44,
   "metadata": {},
   "outputs": [],
   "source": [
    "#Power study\n",
    "def size_of_each_group(p_ex_ante,p_ex_post,power,alpha,ratio_groups):\n",
    "    \n",
    "    #The effect size calculations depends on the target test, here I am comparing\n",
    "    #proportions.\n",
    "    \n",
    "    effect_size = sms.proportion_effectsize(p_ex_ante,p_ex_post,method='normal')\n",
    "\n",
    "    #The power calculations depends also on type of test\n",
    "    #Z-test for 2 independent samples: NormalIndPower()\n",
    "    \n",
    "\n",
    "    required_n_raw= sms.NormalIndPower().solve_power(\n",
    "            effect_size=effect_size,\n",
    "            power=power,\n",
    "            alpha=alpha,\n",
    "            ratio =ratio_groups\n",
    "    )\n",
    "    \n",
    "    required_n = ceil(required_n_raw)\n",
    "\n",
    "    print(\"Needed observations (at least) for each group: \"  + str(required_n)) \n",
    "    return required_n,effect_size\n",
    "\n",
    "#Interpreation of power: if there exist an actual difference in conversion rate, \n",
    "#assuming the different is the one estimated, then we have power % chances to detect it."
   ]
  },
  {
   "cell_type": "code",
   "execution_count": 45,
   "metadata": {},
   "outputs": [
    {
     "name": "stdout",
     "output_type": "stream",
     "text": [
      "Needed observations (at least) for each group: 4720\n"
     ]
    }
   ],
   "source": [
    "required_n, effect_size = size_of_each_group(0.13,0.15,0.8,0.05,1)"
   ]
  },
  {
   "cell_type": "code",
   "execution_count": 51,
   "metadata": {},
   "outputs": [
    {
     "data": {
      "text/html": [
       "<div>\n",
       "<style scoped>\n",
       "    .dataframe tbody tr th:only-of-type {\n",
       "        vertical-align: middle;\n",
       "    }\n",
       "\n",
       "    .dataframe tbody tr th {\n",
       "        vertical-align: top;\n",
       "    }\n",
       "\n",
       "    .dataframe thead th {\n",
       "        text-align: right;\n",
       "    }\n",
       "</style>\n",
       "<table border=\"1\" class=\"dataframe\">\n",
       "  <thead>\n",
       "    <tr style=\"text-align: right;\">\n",
       "      <th></th>\n",
       "      <th>user_id</th>\n",
       "      <th>timestamp</th>\n",
       "      <th>group</th>\n",
       "      <th>landing_page</th>\n",
       "      <th>converted</th>\n",
       "    </tr>\n",
       "  </thead>\n",
       "  <tbody>\n",
       "    <tr>\n",
       "      <th>0</th>\n",
       "      <td>851104</td>\n",
       "      <td>2017-01-21 22:11:48.556739</td>\n",
       "      <td>control</td>\n",
       "      <td>old_page</td>\n",
       "      <td>0</td>\n",
       "    </tr>\n",
       "    <tr>\n",
       "      <th>1</th>\n",
       "      <td>804228</td>\n",
       "      <td>2017-01-12 08:01:45.159739</td>\n",
       "      <td>control</td>\n",
       "      <td>old_page</td>\n",
       "      <td>0</td>\n",
       "    </tr>\n",
       "    <tr>\n",
       "      <th>2</th>\n",
       "      <td>661590</td>\n",
       "      <td>2017-01-11 16:55:06.154213</td>\n",
       "      <td>treatment</td>\n",
       "      <td>new_page</td>\n",
       "      <td>0</td>\n",
       "    </tr>\n",
       "    <tr>\n",
       "      <th>3</th>\n",
       "      <td>853541</td>\n",
       "      <td>2017-01-08 18:28:03.143765</td>\n",
       "      <td>treatment</td>\n",
       "      <td>new_page</td>\n",
       "      <td>0</td>\n",
       "    </tr>\n",
       "    <tr>\n",
       "      <th>4</th>\n",
       "      <td>864975</td>\n",
       "      <td>2017-01-21 01:52:26.210827</td>\n",
       "      <td>control</td>\n",
       "      <td>old_page</td>\n",
       "      <td>1</td>\n",
       "    </tr>\n",
       "  </tbody>\n",
       "</table>\n",
       "</div>"
      ],
      "text/plain": [
       "   user_id                   timestamp      group landing_page  converted\n",
       "0   851104  2017-01-21 22:11:48.556739    control     old_page          0\n",
       "1   804228  2017-01-12 08:01:45.159739    control     old_page          0\n",
       "2   661590  2017-01-11 16:55:06.154213  treatment     new_page          0\n",
       "3   853541  2017-01-08 18:28:03.143765  treatment     new_page          0\n",
       "4   864975  2017-01-21 01:52:26.210827    control     old_page          1"
      ]
     },
     "execution_count": 51,
     "metadata": {},
     "output_type": "execute_result"
    }
   ],
   "source": [
    "##I used a prepared dataset from Kaggle\n",
    "\n",
    "df=pd.read_csv('ab_data.csv')\n",
    "df.head()"
   ]
  },
  {
   "cell_type": "code",
   "execution_count": 59,
   "metadata": {},
   "outputs": [
    {
     "name": "stdout",
     "output_type": "stream",
     "text": [
      "<class 'pandas.core.frame.DataFrame'>\n",
      "RangeIndex: 294478 entries, 0 to 294477\n",
      "Data columns (total 5 columns):\n",
      " #   Column        Non-Null Count   Dtype \n",
      "---  ------        --------------   ----- \n",
      " 0   user_id       294478 non-null  int64 \n",
      " 1   timestamp     294478 non-null  object\n",
      " 2   group         294478 non-null  object\n",
      " 3   landing_page  294478 non-null  object\n",
      " 4   converted     294478 non-null  int64 \n",
      "dtypes: int64(2), object(3)\n",
      "memory usage: 11.2+ MB\n"
     ]
    }
   ],
   "source": [
    "df.info()"
   ]
  },
  {
   "cell_type": "code",
   "execution_count": 117,
   "metadata": {},
   "outputs": [
    {
     "data": {
      "text/plain": [
       "group\n",
       "control      147202\n",
       "treatment    147276\n",
       "Name: user_id, dtype: int64"
      ]
     },
     "execution_count": 117,
     "metadata": {},
     "output_type": "execute_result"
    }
   ],
   "source": [
    "df.groupby(['group'])['user_id'].count()"
   ]
  },
  {
   "cell_type": "code",
   "execution_count": 68,
   "metadata": {},
   "outputs": [
    {
     "data": {
      "text/html": [
       "<div>\n",
       "<style scoped>\n",
       "    .dataframe tbody tr th:only-of-type {\n",
       "        vertical-align: middle;\n",
       "    }\n",
       "\n",
       "    .dataframe tbody tr th {\n",
       "        vertical-align: top;\n",
       "    }\n",
       "\n",
       "    .dataframe thead th {\n",
       "        text-align: right;\n",
       "    }\n",
       "</style>\n",
       "<table border=\"1\" class=\"dataframe\">\n",
       "  <thead>\n",
       "    <tr style=\"text-align: right;\">\n",
       "      <th>landing_page</th>\n",
       "      <th>new_page</th>\n",
       "      <th>old_page</th>\n",
       "    </tr>\n",
       "    <tr>\n",
       "      <th>group</th>\n",
       "      <th></th>\n",
       "      <th></th>\n",
       "    </tr>\n",
       "  </thead>\n",
       "  <tbody>\n",
       "    <tr>\n",
       "      <th>control</th>\n",
       "      <td>1928</td>\n",
       "      <td>145274</td>\n",
       "    </tr>\n",
       "    <tr>\n",
       "      <th>treatment</th>\n",
       "      <td>145311</td>\n",
       "      <td>1965</td>\n",
       "    </tr>\n",
       "  </tbody>\n",
       "</table>\n",
       "</div>"
      ],
      "text/plain": [
       "landing_page  new_page  old_page\n",
       "group                           \n",
       "control           1928    145274\n",
       "treatment       145311      1965"
      ]
     },
     "execution_count": 68,
     "metadata": {},
     "output_type": "execute_result"
    }
   ],
   "source": [
    "pd.crosstab(df['group'],df['landing_page'])"
   ]
  },
  {
   "cell_type": "code",
   "execution_count": 92,
   "metadata": {},
   "outputs": [
    {
     "name": "stdout",
     "output_type": "stream",
     "text": [
      "The number of users appearing multiple times in the dataset/number of show-ups is the following:\n",
      "count    3894.0\n",
      "mean        2.0\n",
      "std         0.0\n",
      "min         2.0\n",
      "25%         2.0\n",
      "50%         2.0\n",
      "75%         2.0\n",
      "max         2.0\n",
      "Name: user_id, dtype: float64\n"
     ]
    }
   ],
   "source": [
    "#Are there users appearing multiple times in the dataset?\n",
    "\n",
    "session_counts= df['user_id'].value_counts(ascending=False)\n",
    "\n",
    "print(\"The number of users appearing multiple times in the dataset/number of show-ups is the following:\")\n",
    "\n",
    "print(session_counts[session_counts>1].describe())"
   ]
  },
  {
   "cell_type": "code",
   "execution_count": 111,
   "metadata": {},
   "outputs": [
    {
     "data": {
      "text/html": [
       "<div>\n",
       "<style scoped>\n",
       "    .dataframe tbody tr th:only-of-type {\n",
       "        vertical-align: middle;\n",
       "    }\n",
       "\n",
       "    .dataframe tbody tr th {\n",
       "        vertical-align: top;\n",
       "    }\n",
       "\n",
       "    .dataframe thead th {\n",
       "        text-align: right;\n",
       "    }\n",
       "</style>\n",
       "<table border=\"1\" class=\"dataframe\">\n",
       "  <thead>\n",
       "    <tr style=\"text-align: right;\">\n",
       "      <th>group</th>\n",
       "      <th>control</th>\n",
       "      <th>treatment</th>\n",
       "      <th>All</th>\n",
       "    </tr>\n",
       "    <tr>\n",
       "      <th>user_id</th>\n",
       "      <th></th>\n",
       "      <th></th>\n",
       "      <th></th>\n",
       "    </tr>\n",
       "  </thead>\n",
       "  <tbody>\n",
       "    <tr>\n",
       "      <th>630052</th>\n",
       "      <td>0.0</td>\n",
       "      <td>2.0</td>\n",
       "      <td>2</td>\n",
       "    </tr>\n",
       "    <tr>\n",
       "      <th>630126</th>\n",
       "      <td>0.0</td>\n",
       "      <td>2.0</td>\n",
       "      <td>2</td>\n",
       "    </tr>\n",
       "    <tr>\n",
       "      <th>630137</th>\n",
       "      <td>2.0</td>\n",
       "      <td>0.0</td>\n",
       "      <td>2</td>\n",
       "    </tr>\n",
       "    <tr>\n",
       "      <th>630320</th>\n",
       "      <td>1.0</td>\n",
       "      <td>1.0</td>\n",
       "      <td>2</td>\n",
       "    </tr>\n",
       "    <tr>\n",
       "      <th>630471</th>\n",
       "      <td>2.0</td>\n",
       "      <td>0.0</td>\n",
       "      <td>2</td>\n",
       "    </tr>\n",
       "    <tr>\n",
       "      <th>...</th>\n",
       "      <td>...</td>\n",
       "      <td>...</td>\n",
       "      <td>...</td>\n",
       "    </tr>\n",
       "    <tr>\n",
       "      <th>945645</th>\n",
       "      <td>2.0</td>\n",
       "      <td>0.0</td>\n",
       "      <td>2</td>\n",
       "    </tr>\n",
       "    <tr>\n",
       "      <th>945703</th>\n",
       "      <td>2.0</td>\n",
       "      <td>0.0</td>\n",
       "      <td>2</td>\n",
       "    </tr>\n",
       "    <tr>\n",
       "      <th>945797</th>\n",
       "      <td>2.0</td>\n",
       "      <td>0.0</td>\n",
       "      <td>2</td>\n",
       "    </tr>\n",
       "    <tr>\n",
       "      <th>945971</th>\n",
       "      <td>2.0</td>\n",
       "      <td>0.0</td>\n",
       "      <td>2</td>\n",
       "    </tr>\n",
       "    <tr>\n",
       "      <th>All</th>\n",
       "      <td>3909.0</td>\n",
       "      <td>3879.0</td>\n",
       "      <td>7788</td>\n",
       "    </tr>\n",
       "  </tbody>\n",
       "</table>\n",
       "<p>3895 rows × 3 columns</p>\n",
       "</div>"
      ],
      "text/plain": [
       "group    control  treatment   All\n",
       "user_id                          \n",
       "630052       0.0        2.0     2\n",
       "630126       0.0        2.0     2\n",
       "630137       2.0        0.0     2\n",
       "630320       1.0        1.0     2\n",
       "630471       2.0        0.0     2\n",
       "...          ...        ...   ...\n",
       "945645       2.0        0.0     2\n",
       "945703       2.0        0.0     2\n",
       "945797       2.0        0.0     2\n",
       "945971       2.0        0.0     2\n",
       "All       3909.0     3879.0  7788\n",
       "\n",
       "[3895 rows x 3 columns]"
      ]
     },
     "execution_count": 111,
     "metadata": {},
     "output_type": "execute_result"
    }
   ],
   "source": [
    "#Are these users showing up twice evenly across groups?\n",
    "multiple_users=df[df['user_id'].isin(session_counts[session_counts>1].index)].copy()\n",
    "pd.pivot_table(multiple_users, values='timestamp',\n",
    "               index='user_id',columns='group',aggfunc='count',margins=True).fillna(0)"
   ]
  },
  {
   "cell_type": "code",
   "execution_count": 118,
   "metadata": {},
   "outputs": [
    {
     "data": {
      "text/html": [
       "<div>\n",
       "<style scoped>\n",
       "    .dataframe tbody tr th:only-of-type {\n",
       "        vertical-align: middle;\n",
       "    }\n",
       "\n",
       "    .dataframe tbody tr th {\n",
       "        vertical-align: top;\n",
       "    }\n",
       "\n",
       "    .dataframe thead th {\n",
       "        text-align: right;\n",
       "    }\n",
       "</style>\n",
       "<table border=\"1\" class=\"dataframe\">\n",
       "  <thead>\n",
       "    <tr style=\"text-align: right;\">\n",
       "      <th></th>\n",
       "      <th>user_id</th>\n",
       "      <th>timestamp</th>\n",
       "      <th>group</th>\n",
       "      <th>landing_page</th>\n",
       "      <th>converted</th>\n",
       "    </tr>\n",
       "  </thead>\n",
       "  <tbody>\n",
       "    <tr>\n",
       "      <th>213114</th>\n",
       "      <td>630052</td>\n",
       "      <td>2017-01-07 12:25:54.089486</td>\n",
       "      <td>treatment</td>\n",
       "      <td>old_page</td>\n",
       "      <td>1</td>\n",
       "    </tr>\n",
       "    <tr>\n",
       "      <th>230259</th>\n",
       "      <td>630052</td>\n",
       "      <td>2017-01-17 01:16:05.208766</td>\n",
       "      <td>treatment</td>\n",
       "      <td>new_page</td>\n",
       "      <td>0</td>\n",
       "    </tr>\n",
       "  </tbody>\n",
       "</table>\n",
       "</div>"
      ],
      "text/plain": [
       "        user_id                   timestamp      group landing_page  converted\n",
       "213114   630052  2017-01-07 12:25:54.089486  treatment     old_page          1\n",
       "230259   630052  2017-01-17 01:16:05.208766  treatment     new_page          0"
      ]
     },
     "metadata": {},
     "output_type": "display_data"
    },
    {
     "data": {
      "text/html": [
       "<div>\n",
       "<style scoped>\n",
       "    .dataframe tbody tr th:only-of-type {\n",
       "        vertical-align: middle;\n",
       "    }\n",
       "\n",
       "    .dataframe tbody tr th {\n",
       "        vertical-align: top;\n",
       "    }\n",
       "\n",
       "    .dataframe thead th {\n",
       "        text-align: right;\n",
       "    }\n",
       "</style>\n",
       "<table border=\"1\" class=\"dataframe\">\n",
       "  <thead>\n",
       "    <tr style=\"text-align: right;\">\n",
       "      <th></th>\n",
       "      <th>user_id</th>\n",
       "      <th>timestamp</th>\n",
       "      <th>group</th>\n",
       "      <th>landing_page</th>\n",
       "      <th>converted</th>\n",
       "    </tr>\n",
       "  </thead>\n",
       "  <tbody>\n",
       "    <tr>\n",
       "      <th>11792</th>\n",
       "      <td>630137</td>\n",
       "      <td>2017-01-22 14:59:22.051308</td>\n",
       "      <td>control</td>\n",
       "      <td>new_page</td>\n",
       "      <td>0</td>\n",
       "    </tr>\n",
       "    <tr>\n",
       "      <th>183371</th>\n",
       "      <td>630137</td>\n",
       "      <td>2017-01-20 02:08:49.893878</td>\n",
       "      <td>control</td>\n",
       "      <td>old_page</td>\n",
       "      <td>0</td>\n",
       "    </tr>\n",
       "  </tbody>\n",
       "</table>\n",
       "</div>"
      ],
      "text/plain": [
       "        user_id                   timestamp    group landing_page  converted\n",
       "11792    630137  2017-01-22 14:59:22.051308  control     new_page          0\n",
       "183371   630137  2017-01-20 02:08:49.893878  control     old_page          0"
      ]
     },
     "metadata": {},
     "output_type": "display_data"
    }
   ],
   "source": [
    "#Why we need to delete duplicate users to interpret correctly the effects?\n",
    "\n",
    "#There are users showing up twice in treatment:\n",
    "display(df[df['user_id']==630052])\n",
    "\n",
    "#There are users showing up twice in the control\n",
    "display(df[df['user_id']==630137])\n",
    "\n",
    "\n",
    "#If we assume that we want to randomize the session level, then users can come back and be\n",
    "#randomly assigned to a landing_page. \n",
    "#Assume that we do have two user types: Impulsive (I) & Non Impulsive (NI). \n",
    "#Impulsive types will visit the page once and make a decision, so they won't come back.\n",
    "#So far so good. But what about Non Impulsive onse?\n",
    "#Suppose to consider a Non Impulsive user (NI) who visits 2 times the page before\n",
    "#converting/making a decision. Since we randomize at session level, the same user can\n",
    "#be exposed to different pages. Suppose this user in visit 1 get into the new page & she\n",
    "#liked it a lot but the purchase is made when she visited the second time and the old\n",
    "#page was shown. In this case, we have a misattribution of the positive effect.\n",
    "\n",
    "#If we assume that sessions are independent (i.e. the experience of session n \n",
    "# does not have an impact on session n+1), then we can keep double observations.\n",
    "\n",
    "#But I do not believe that in the real world, sessions are independent: here again\n",
    "#you need to assume what happens when NI types randomly assigned to new_page and then \n",
    "#permanentely assign to that for every successive visit. How to fix it? Let's assume \n",
    "#user level randomization (users are independent, meaning that one user's decision does not\n",
    "# affect others' decisions to convert).\n",
    "\n",
    "#Sessions not independent -> carry over effects -> randomize at user level;\n",
    "\n",
    "#So, I assume that the randomization is at user level effect.\n"
   ]
  },
  {
   "cell_type": "code",
   "execution_count": 123,
   "metadata": {},
   "outputs": [],
   "source": [
    "#Removing duplicate users\n",
    "df=df[~df['user_id'].isin(multiple_users.user_id.to_list())]"
   ]
  },
  {
   "cell_type": "code",
   "execution_count": 139,
   "metadata": {},
   "outputs": [
    {
     "name": "stdout",
     "output_type": "stream",
     "text": [
      "<class 'pandas.core.frame.DataFrame'>\n",
      "RangeIndex: 9440 entries, 0 to 9439\n",
      "Data columns (total 5 columns):\n",
      " #   Column        Non-Null Count  Dtype \n",
      "---  ------        --------------  ----- \n",
      " 0   user_id       9440 non-null   int64 \n",
      " 1   timestamp     9440 non-null   object\n",
      " 2   group         9440 non-null   object\n",
      " 3   landing_page  9440 non-null   object\n",
      " 4   converted     9440 non-null   int64 \n",
      "dtypes: int64(2), object(3)\n",
      "memory usage: 368.9+ KB\n"
     ]
    }
   ],
   "source": [
    "#We need to randomly sample users now, stratifying at group level\n",
    "control_sample=df[df['group']=='control'].sample(n=required_n,random_state=22)\n",
    "treatment_sample=df[df['group']=='treatment'].sample(n=required_n,random_state=22)\n",
    "ab_test_df=pd.concat([control_sample,treatment_sample],axis=0)\n",
    "ab_test_df.reset_index(drop=True,inplace=True)\n",
    "\n",
    "ab_test_df.info()"
   ]
  },
  {
   "cell_type": "code",
   "execution_count": 147,
   "metadata": {},
   "outputs": [
    {
     "data": {
      "text/plain": [
       "group      landing_page\n",
       "control    old_page        4720\n",
       "treatment  new_page        4720\n",
       "Name: user_id, dtype: int64"
      ]
     },
     "execution_count": 147,
     "metadata": {},
     "output_type": "execute_result"
    }
   ],
   "source": [
    "#Now we have a balanced and stratified sample, across groups, assuming that\n",
    "#randomization is done at user level (sessions are not independent)\n",
    "ab_test_df.groupby(['group','landing_page'])['user_id'].count()\n"
   ]
  },
  {
   "cell_type": "code",
   "execution_count": 145,
   "metadata": {},
   "outputs": [],
   "source": [
    "#How conversation rate looks like?\n",
    "\n",
    "conversion_rates=ab_test_df.groupby(['group'])['converted']\n",
    "\n",
    "#Standard devitions and errors as in the population, since we have 4,720 observations\n",
    "std_p = lambda x: np.std(x,ddof=0)\n",
    "se_p = lambda x: np.std(x,ddof=0)\n",
    "\n",
    "conversation_rates=conversion_rates.agg([np.mean,std_p,se_p])\n",
    "conversation_rates.columns=['conversion_rate','std_deviation','std_error']"
   ]
  },
  {
   "cell_type": "code",
   "execution_count": 168,
   "metadata": {},
   "outputs": [
    {
     "data": {
      "image/png": "[encoded data removed]",
      "text/plain": [
       "<Figure size 342x360 with 1 Axes>"
      ]
     },
     "metadata": {
      "needs_background": "light"
     },
     "output_type": "display_data"
    }
   ],
   "source": [
    "#Let's plot our results:\n",
    "\n",
    "g=sns.catplot(data=ab_test_df,x='group',y='converted',kind='bar',ci=95,aspect=0.95)\n",
    "plt.title('Conversation Rates (AB testing)')\n",
    "plt.show()"
   ]
  },
  {
   "cell_type": "code",
   "execution_count": 190,
   "metadata": {},
   "outputs": [],
   "source": [
    "#By just looking at the catplot, it does not seem that there is any difference. Let's try\n",
    "#to do it from a statistical point of view.\n",
    "\n",
    "from statsmodels.stats.proportion import proportions_ztest, proportion_confint\n",
    "\n",
    "def result_subgroups(df,group,target):\n",
    "    \n",
    "    results = df[df['group']==group][target]\n",
    "    count = results.count()\n",
    "    \n",
    "    success = results.sum()\n",
    "    \n",
    "    return results,count,success"
   ]
  },
  {
   "cell_type": "code",
   "execution_count": 200,
   "metadata": {},
   "outputs": [],
   "source": [
    "control_res,n_control,success_control= result_subgroups(ab_test_df,'control','converted')\n",
    "treat_res,n_treat,success_treat = result_subgroups(ab_test_df,'treatment','converted')\n",
    "\n",
    "#Let's stack results for using them in the Z testing now.\n",
    "success=[success_control,success_treat]\n",
    "nobs=[n_control,n_treat]\n",
    "\n",
    "#I can derive z stat, p value and CI\n",
    "z_stat,pval=proportions_ztest(success,nobs)\n",
    "\n",
    "(lower_control,upper_control),(lower_treat,upper_treat)=proportion_confint(success,nobs,\n",
    "                                                        alpha=0.05)"
   ]
  },
  {
   "cell_type": "code",
   "execution_count": 206,
   "metadata": {},
   "outputs": [
    {
     "name": "stdout",
     "output_type": "stream",
     "text": [
      "Z statistic value:  -0.34296\n",
      "P_value:  0.73163\n",
      "We fail to reject the null\n",
      "95% CI for control:    0.11393, 0.11618 \n",
      "95% CI for treatment:  0.13268, 0.13509\n"
     ]
    }
   ],
   "source": [
    "print(f'Z statistic value:  {z_stat:.5f}')\n",
    "print(f'P_value:  {pval:.5f}')\n",
    "\n",
    "if pval < 0.05:\n",
    "    print(\"Reject the null\")\n",
    "else:\n",
    "    print(\"We fail to reject the null\")\n",
    "    \n",
    "    \n",
    "print(f'95% CI for control:    {lower_control:.5f}, {upper_control:.5f} ')\n",
    "print(f'95% CI for treatment:  {lower_treat:.5f}, {upper_treat:.5f}')\n"
   ]
  },
  {
   "cell_type": "code",
   "execution_count": null,
   "metadata": {},
   "outputs": [],
   "source": [
    "#Drawing conclusions\n",
    "print(\"Our new design performes poorly\")"
   ]
  }
 ],
 "metadata": {
  "interpreter": {
   "hash": "1baa965d5efe3ac65b79dfc60c0d706280b1da80fedb7760faf2759126c4f253"
  },
  "kernelspec": {
   "display_name": "Python 3.8.6 64-bit",
   "name": "python3"
  },
  "language_info": {
   "codemirror_mode": {
    "name": "ipython",
    "version": 3
   },
   "file_extension": ".py",
   "mimetype": "text/x-python",
   "name": "python",
   "nbconvert_exporter": "python",
   "pygments_lexer": "ipython3",
   "version": "3.9.10"
  }
 },
 "nbformat": 4,
 "nbformat_minor": 4
}
